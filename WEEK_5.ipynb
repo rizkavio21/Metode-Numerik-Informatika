{
  "nbformat": 4,
  "nbformat_minor": 0,
  "metadata": {
    "colab": {
      "name": "WEEK 5.ipynb",
      "provenance": [],
      "collapsed_sections": []
    },
    "kernelspec": {
      "name": "python3",
      "display_name": "Python 3"
    }
  },
  "cells": [
    {
      "cell_type": "code",
      "metadata": {
        "id": "X0tVBvlKHKdX"
      },
      "source": [
        ""
      ],
      "execution_count": null,
      "outputs": []
    },
    {
      "cell_type": "markdown",
      "metadata": {
        "id": "nOHFSYDxHJdX"
      },
      "source": [
        "# **NAMA : Rizka Vio Octriany Inggit Sudiro**\n",
        "# **1301170121**\n",
        "# **TUGAS WEEK 5**"
      ]
    },
    {
      "cell_type": "markdown",
      "metadata": {
        "id": "hKmBpASfO3y2"
      },
      "source": [
        "# Exercise\n",
        "\n",
        "<center><img src = \"https://i.imgur.com/a7Lkz1K.png\" align = \"center\"> </center>"
      ]
    },
    {
      "cell_type": "markdown",
      "metadata": {
        "id": "Z4EAuGMZPAWX"
      },
      "source": [
        "# A."
      ]
    },
    {
      "cell_type": "code",
      "metadata": {
        "id": "p0nnUukdO500",
        "outputId": "c4ed3c0a-0887-4ad7-ef21-6e5c031f0194",
        "colab": {
          "base_uri": "https://localhost:8080/",
          "height": 68
        }
      },
      "source": [
        "import numpy as np\n",
        "\n",
        "def F(X):\n",
        "  f1 =  3*X[0]**2 - X[1]**2\n",
        "  f2 =  3*X[0]*X[1]**2 - X[0]**3 - 1\n",
        "  return [f1, f2]\n",
        "\n",
        "def J(X):\n",
        "   a11 = 6*X[0]\n",
        "   a12 = 2*X[1]\n",
        "   a21 = 3*X[1]**2 - 3*X[0]**2\n",
        "   a22 = 6*X[0]*X[1]\n",
        "   return [[a11, a12],[a21, a22]]\n",
        "\n",
        "def error(X, X1):\n",
        "  return  min(np.absolute(X-X1))\n",
        "\n",
        "x = [1. , 1.]\n",
        "TOL = 0.000001\n",
        "N = 100\n",
        "\n",
        "#step 1\n",
        "k= 1\n",
        "xold=np.ones(len(x))\n",
        "\n",
        "print('iteration: ', k)\n",
        "print('error: ',error(x,xold))\n",
        "print(x)\n",
        "\n",
        "#Step 2 \n",
        "while (k<=N) and (error(x,xold)>TOL):\n",
        "  #step 3\n",
        "  Fx = F(x)\n",
        "  Jac = J(x)\n",
        "  #step 4\n",
        "  y = np.linalg.inv(Jac)@(Fx)\n",
        "  xold = x\n",
        "  #step 5\n",
        "  x = x-y\n",
        "  #step 6\n",
        "  k = k +1\n",
        "  print('iteration: ', k)\n",
        "  print('error: ',error(x,xold)) \n",
        "  print(x)"
      ],
      "execution_count": null,
      "outputs": [
        {
          "output_type": "stream",
          "text": [
            "iteration:  1\n",
            "error:  0.0\n",
            "[1.0, 1.0]\n"
          ],
          "name": "stdout"
        }
      ]
    },
    {
      "cell_type": "markdown",
      "metadata": {
        "id": "vd7ZpNq-Q_fG"
      },
      "source": [
        "# B"
      ]
    },
    {
      "cell_type": "code",
      "metadata": {
        "id": "cW67sQODRBPL",
        "outputId": "bed1b259-3794-4c5f-ab0f-58a94bfebd9e",
        "colab": {
          "base_uri": "https://localhost:8080/",
          "height": 374
        }
      },
      "source": [
        "import numpy as np\n",
        "\n",
        "def F(X):\n",
        "  f1 =  np.log(X[0]**2+X[1]**2) - np.sin(X[0]*X[1]) - np.log(2) - np.log(np.pi)\n",
        "  f2 =  np.exp(X[0] - X[1]) + np.cos(X[0]*X[1])\n",
        "  return [f1, f2]\n",
        "\n",
        "\n",
        "def J(X):\n",
        "   a11 = (2*X[0] / (X[0]**2 + X[1]**2)) - X[1] * np.cos(X[1]*X[0])\n",
        "   a12 = 2*X[1] / (X[0]**2 + X[1]**2) - X[0] * np.cos(X[1]*X[0])\n",
        "   a21 = np.exp(X[0]-X[1]) - X[1] * np.sin(X[1]*X[0])\n",
        "   a22 = -X[0] * np.sin(X[0]*X[1]) - np.exp(X[0]-X[1]) \n",
        "   return [[a11, a12],[a21, a22]]\n",
        "\n",
        "x = [2.,2.]\n",
        "TOL = 0.000001\n",
        "N = 200\n",
        "#step 1\n",
        "k= 1\n",
        "xold=np.ones(len(x))\n",
        "\n",
        "print('iteration: ', k)\n",
        "print('error: ',error(x,xold))\n",
        "print(x)\n",
        "\n",
        "#Step 2 \n",
        "while (k<=N) and (error(x,xold)>TOL):\n",
        "  #step 3\n",
        "  Fx = F(x)\n",
        "  Jac = J(x)\n",
        "  #step 4\n",
        "  y = np.linalg.inv(Jac)@(Fx)\n",
        "  xold = x\n",
        "  #step 5\n",
        "  x = x-y\n",
        "  #step 6\n",
        "  k = k +1\n",
        "  print('iteration: ', k)\n",
        "  print('error: ',error(x,xold)) \n",
        "  print(x)"
      ],
      "execution_count": null,
      "outputs": [
        {
          "output_type": "stream",
          "text": [
            "iteration:  1\n",
            "error:  1.0\n",
            "[2.0, 2.0]\n",
            "iteration:  2\n",
            "error:  0.03131743641390883\n",
            "[1.96868256 1.47890554]\n",
            "iteration:  3\n",
            "error:  0.13860252286942742\n",
            "[1.83008004 1.70902384]\n",
            "iteration:  4\n",
            "error:  0.05452256863464444\n",
            "[1.77555747 1.76841171]\n",
            "iteration:  5\n",
            "error:  0.0030919987296056384\n",
            "[1.77246547 1.7724386 ]\n",
            "iteration:  6\n",
            "error:  1.162228184314884e-05\n",
            "[1.77245385 1.77245385]\n",
            "iteration:  7\n",
            "error:  1.6505441458036785e-10\n",
            "[1.77245385 1.77245385]\n"
          ],
          "name": "stdout"
        }
      ]
    },
    {
      "cell_type": "markdown",
      "metadata": {
        "id": "PitGGbe7Qgys"
      },
      "source": [
        "# C"
      ]
    },
    {
      "cell_type": "code",
      "metadata": {
        "id": "rmcB8XOSLK5F"
      },
      "source": [
        "import numpy as np\n",
        "\n",
        "def F(X):\n",
        "  f1 =  X[0]**3 + X[0]**2 * X[1] - X[0]*X[2] +6\n",
        "  f2 =  np.exp(X[0]) + np.exp(X[1]) - X[2]\n",
        "  f3 = X[1]**2 - 2*X[1]*X[2] - 4\n",
        "  return [f1, f2 ,f3]"
      ],
      "execution_count": null,
      "outputs": []
    },
    {
      "cell_type": "code",
      "metadata": {
        "id": "x_KC9rVgQhV1",
        "outputId": "931e636e-e458-4fb6-be60-6f78f647f8a3",
        "colab": {
          "base_uri": "https://localhost:8080/",
          "height": 68
        }
      },
      "source": [
        "def J(X):\n",
        "   a11 =3*X[0]**2 + 2*X[0] * X[1] - X[2] \n",
        "   a12 =X[0]**2\n",
        "   a13 =-X[0]\n",
        "   a21 = np.exp(X[0])\n",
        "   a22 = np.exp(X[1])\n",
        "   a23 = 1\n",
        "   a31 = -2*X[2]\n",
        "   a32 = 2*X[1]\n",
        "   a33 = -2*X[2]\n",
        "   return [[a11, a12,a13],[a21, a22,a23],[a31,a32,a33]]\n",
        "\n",
        "x = [-1., -2., 1.]\n",
        "TOL = 0.000001\n",
        "N = 200\n",
        "#step 1\n",
        "k= 1\n",
        "xold=np.ones(len(x))\n",
        "\n",
        "print('iteration: ', k)\n",
        "print('error: ',error(x,xold))\n",
        "print(x)\n",
        "\n",
        "#Step 2 \n",
        "while (k<=N) and (error(x,xold)>TOL):\n",
        "  #step 3\n",
        "  Fx = F(x)\n",
        "  Jac = J(x)\n",
        "  #step 4\n",
        "  y = np.linalg.inv(Jac)@(Fx)\n",
        "  xold = x\n",
        "  #step 5\n",
        "  x = x-y\n",
        "  #step 6\n",
        "  k = k +1\n",
        "  print('iteration: ', k)\n",
        "  print('error: ',error(x,xold)) \n",
        "  print(x)"
      ],
      "execution_count": null,
      "outputs": [
        {
          "output_type": "stream",
          "text": [
            "iteration:  1\n",
            "error:  0.0\n",
            "[-1.0, -2.0, 1.0]\n"
          ],
          "name": "stdout"
        }
      ]
    },
    {
      "cell_type": "markdown",
      "metadata": {
        "id": "knVtLNMVRlUD"
      },
      "source": [
        "# D"
      ]
    },
    {
      "cell_type": "code",
      "metadata": {
        "id": "tIZFAVxTRosI",
        "outputId": "b08a42b4-ddf9-4c7f-e8c6-3695ebd38584",
        "colab": {
          "base_uri": "https://localhost:8080/",
          "height": 221
        }
      },
      "source": [
        "import numpy as np\n",
        "\n",
        "def F(X):\n",
        "  f1 =  6*X[0] - 2 * np.cos(X[1] * X[2]) - 1\n",
        "  f2 =  9*X[1] + np.sqrt(X[0]**2 + np.sin(X[2]) + 1.06) + 0.9\n",
        "  f3 =  60*X[2] + 3* np.exp(-X[0]*X[1]) + 10*np.pi - 3\n",
        "  return [f1, f2, f3]\n",
        "  \n",
        "def J(X):\n",
        "   a11 = 6\n",
        "   a12 = 2*X[2] * np.sin(X[1]*X[2])\n",
        "   a13 = 2*X[1] * np.sin(X[1]*X[2])\n",
        "   a21 = X[0]/np.sqrt(X[0]**2+np.sin(X[2])+1.06)\n",
        "   a22 = 9\n",
        "   a23 = 0.5*np.cos(X[2])/np.sqrt(X[0]**2+np.sin(X[2])+1.06)\n",
        "   a31 = -3*X[1] * np.exp(-X[1]*X[0])\n",
        "   a32 = -3*X[0] * np.exp(-X[0]*X[1])\n",
        "   a33 = 60\n",
        "   return [[a11, a12,a13],[a21, a22,a23], [a31,a32,a33]]\n",
        "\n",
        "x = [0., 0., 0.]\n",
        "TOL = 0.000001\n",
        "N = 200\n",
        "#step 1\n",
        "k= 1\n",
        "xold=np.ones(len(x))\n",
        "\n",
        "print('iteration: ', k)\n",
        "print('error: ',error(x,xold))\n",
        "print(x)\n",
        "\n",
        "#Step 2 \n",
        "while (k<=N) and (error(x,xold)>TOL):\n",
        "  #step 3\n",
        "  Fx = F(x)\n",
        "  Jac = J(x)\n",
        "  #step 4\n",
        "  y = np.linalg.inv(Jac)@(Fx)\n",
        "  xold = x\n",
        "  #step 5\n",
        "  x = x-y\n",
        "  #step 6\n",
        "  k = k +1\n",
        "  print('iteration: ', k)\n",
        "  print('error: ',error(x,xold)) \n",
        "  print(x)"
      ],
      "execution_count": null,
      "outputs": [
        {
          "output_type": "stream",
          "text": [
            "iteration:  1\n",
            "error:  1.0\n",
            "[0.0, 0.0, 0.0]\n",
            "iteration:  2\n",
            "error:  0.18614232999506655\n",
            "[ 0.5        -0.18614233 -0.52359878]\n",
            "iteration:  3\n",
            "error:  0.0018421898576803653\n",
            "[ 0.49815781 -0.19960682 -0.5288264 ]\n",
            "iteration:  4\n",
            "error:  4.1761037783416555e-07\n",
            "[ 0.49814468 -0.1996059  -0.52882598]\n"
          ],
          "name": "stdout"
        }
      ]
    }
  ]
}