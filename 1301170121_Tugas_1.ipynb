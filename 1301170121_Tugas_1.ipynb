{
  "nbformat": 4,
  "nbformat_minor": 0,
  "metadata": {
    "colab": {
      "name": "1301170121 - Tugas 1.ipynb",
      "provenance": [],
      "collapsed_sections": []
    },
    "kernelspec": {
      "name": "python3",
      "display_name": "Python 3"
    }
  },
  "cells": [
    {
      "cell_type": "markdown",
      "metadata": {
        "id": "Agem7q9CiVB-",
        "colab_type": "text"
      },
      "source": [
        "# **Rizka Vio Octriany Inggit Sudiro**\n",
        "# **1301170121**\n",
        "# **IF41-GAB01**\n",
        "\n",
        "\n",
        "\n"
      ]
    },
    {
      "cell_type": "markdown",
      "metadata": {
        "id": "FfSl5eHGisFG",
        "colab_type": "text"
      },
      "source": [
        "# <center> Numerical Method for Informatics</center>\n",
        "## <center> Solution of Equation in One Variable I: Bisection Method</center>\n",
        "\n",
        "This course is devoted to student of Undergraduate Student of Informatics, Telkom University. This course will talk about Bisection method as one of the algorithm for finding the root of a function $f(x)$.\n",
        "\n",
        "Detail of Course\n",
        "\n",
        "\n",
        "*   Course Name: (CII-4M3) Numerical Method for Informatics\n",
        "\n",
        "*   Creator: Dr. Putu Harry Gunawan"
      ]
    },
    {
      "cell_type": "markdown",
      "metadata": {
        "id": "_hDC2JFBkMfq",
        "colab_type": "text"
      },
      "source": [
        "**Exercise**:\n",
        "\n",
        "Use the Bisection method to find solutions acurate $10^{-5}$ for the following problem\n",
        "\n",
        "\n",
        "1.   $x- 2^{-x}$ for $0 \\leq x \\leq 1$\n",
        "2.   $2x \\cos(2x) - (x+1)^2 =0$ for $-3 \\leq x \\leq -2$ and $-1 \\leq x \\leq 0$\n",
        "\n"
      ]
    },
    {
      "cell_type": "markdown",
      "metadata": {
        "id": "A7irdcut8b_O",
        "colab_type": "text"
      },
      "source": [
        "**Nomor 1**\n",
        "\n",
        "\n"
      ]
    },
    {
      "cell_type": "code",
      "metadata": {
        "id": "mHuhI1RJkLNr",
        "colab_type": "code",
        "colab": {}
      },
      "source": [
        "def f(x):\n",
        "  return x - 2**(-x)"
      ],
      "execution_count": 21,
      "outputs": []
    },
    {
      "cell_type": "code",
      "metadata": {
        "id": "avffCr0elwDY",
        "colab_type": "code",
        "colab": {
          "base_uri": "https://localhost:8080/",
          "height": 265
        },
        "outputId": "561884ba-7e7f-471e-dfff-56d792c4fc9e"
      },
      "source": [
        "import matplotlib.pyplot as plt\n",
        "import numpy as np\n",
        "\n",
        "x = np.linspace(0,1,100)\n",
        "plt.plot(x,f(x))\n",
        "plt.grid()\n",
        "plt.show()"
      ],
      "execution_count": 22,
      "outputs": [
        {
          "output_type": "display_data",
          "data": {
            "image/png": "[encoded data removed]",
            "text/plain": [
              "<Figure size 432x288 with 1 Axes>"
            ]
          },
          "metadata": {
            "tags": [],
            "needs_background": "light"
          }
        }
      ]
    },
    {
      "cell_type": "code",
      "metadata": {
        "id": "R2oYZ5tflpG7",
        "colab_type": "code",
        "colab": {}
      },
      "source": [
        "a = 0\n",
        "b = 1\n",
        "TOL = 10**(-5) #toleransi\n",
        "N0 = 100 #iterasi maks"
      ],
      "execution_count": 23,
      "outputs": []
    },
    {
      "cell_type": "code",
      "metadata": {
        "id": "-MQSAIBFl0TT",
        "colab_type": "code",
        "colab": {}
      },
      "source": [
        "i = 1\n",
        "FA = f(a)"
      ],
      "execution_count": 24,
      "outputs": []
    },
    {
      "cell_type": "code",
      "metadata": {
        "id": "yjswNsENl2q7",
        "colab_type": "code",
        "colab": {
          "base_uri": "https://localhost:8080/",
          "height": 323
        },
        "outputId": "32999786-b9d2-478c-eccc-77e292ccb64a"
      },
      "source": [
        "while (i <= N0): #STEP 2\n",
        "  p = a + (b-a) / 2 #STEP 3\n",
        "  FP = f(p)\n",
        "  print(\"{} {} {} {} {}\".format(i,a,b,p,FP))\n",
        "  \n",
        "  if (FP == 0) or (b-a)/2 < TOL:\n",
        "    print(\"Root is {}\".format(p))\n",
        "    break\n",
        "  \n",
        "  i= i+1\n",
        "  if (FA*FP > 0):\n",
        "    a = p\n",
        "    FA = FP\n",
        "  else:\n",
        "    b = p"
      ],
      "execution_count": 25,
      "outputs": [
        {
          "output_type": "stream",
          "text": [
            "1 0 1 0.5 -0.20710678118654757\n",
            "2 0.5 1 0.75 0.1553964424986395\n",
            "3 0.5 0.75 0.625 -0.02341977732550482\n",
            "4 0.625 0.75 0.6875 0.066571093963258\n",
            "5 0.625 0.6875 0.65625 0.02172452140413339\n",
            "6 0.625 0.65625 0.640625 -0.0008100080393891318\n",
            "7 0.640625 0.65625 0.6484375 0.010466610801804\n",
            "8 0.640625 0.6484375 0.64453125 0.004830646247165338\n",
            "9 0.640625 0.64453125 0.642578125 0.0020109061142677964\n",
            "10 0.640625 0.642578125 0.6416015625 0.0006005958893881003\n",
            "11 0.640625 0.6416015625 0.64111328125 -0.00010466934958675012\n",
            "12 0.64111328125 0.6416015625 0.641357421875 0.00024797244970042875\n",
            "13 0.64111328125 0.641357421875 0.6412353515625 7.165384520102513e-05\n",
            "14 0.64111328125 0.6412353515625 0.64117431640625 -1.6507178382529908e-05\n",
            "15 0.64117431640625 0.6412353515625 0.641204833984375 2.7573476858777646e-05\n",
            "16 0.64117431640625 0.641204833984375 0.6411895751953125 5.533185100881077e-06\n",
            "17 0.64117431640625 0.6411895751953125 0.6411819458007812 -5.486987675107358e-06\n",
            "Root is 0.6411819458007812\n"
          ],
          "name": "stdout"
        }
      ]
    },
    {
      "cell_type": "markdown",
      "metadata": {
        "id": "_c-WqmzZ89tk",
        "colab_type": "text"
      },
      "source": [
        "**Nomor 2 dengan titik a =-3 dan b=-2**"
      ]
    },
    {
      "cell_type": "code",
      "metadata": {
        "id": "DfxInY-fqfn6",
        "colab_type": "code",
        "colab": {}
      },
      "source": [
        "import math\n",
        "def f(x):\n",
        "  return (2*x*math.cos(2*x)) - (x + 1)**2"
      ],
      "execution_count": 26,
      "outputs": []
    },
    {
      "cell_type": "code",
      "metadata": {
        "id": "hxL2jg1Fq_FJ",
        "colab_type": "code",
        "colab": {
          "base_uri": "https://localhost:8080/",
          "height": 266
        },
        "outputId": "04e5baa3-f7ff-479f-aabe-14c907f31b5b"
      },
      "source": [
        "f2 = np.vectorize(f)\n",
        "x = np.linspace(-3,-2,10)\n",
        "plt.plot(x,f2(x))\n",
        "plt.grid()\n",
        "plt.show()"
      ],
      "execution_count": 27,
      "outputs": [
        {
          "output_type": "display_data",
          "data": {
            "image/png": "[encoded data removed]",
            "text/plain": [
              "<Figure size 432x288 with 1 Axes>"
            ]
          },
          "metadata": {
            "tags": [],
            "needs_background": "light"
          }
        }
      ]
    },
    {
      "cell_type": "code",
      "metadata": {
        "id": "g6EPoKqrsOQV",
        "colab_type": "code",
        "colab": {}
      },
      "source": [
        "a = -3\n",
        "b = -2\n",
        "TOL = 10**(-5) #toleransi\n",
        "N0 = 100 #iterasi maks"
      ],
      "execution_count": 28,
      "outputs": []
    },
    {
      "cell_type": "code",
      "metadata": {
        "id": "DnuKBP5tsQcS",
        "colab_type": "code",
        "colab": {}
      },
      "source": [
        "i = 1\n",
        "FA = f(a)"
      ],
      "execution_count": 29,
      "outputs": []
    },
    {
      "cell_type": "code",
      "metadata": {
        "id": "GRYRUxJosf5r",
        "colab_type": "code",
        "colab": {
          "base_uri": "https://localhost:8080/",
          "height": 323
        },
        "outputId": "04f0161d-4004-48fd-87a1-2ee716b85028"
      },
      "source": [
        "while (i <= N0): #STEP 2\n",
        "  p = a + (b-a) / 2 #STEP 3\n",
        "  FP = f(p)\n",
        "  print(\"{} {} {} {} {}\".format(i,a,b,p,FP))\n",
        "  \n",
        "  if (FP == 0) or (b-a)/2 < TOL:\n",
        "    print(\"Root is {}\".format(p))\n",
        "    break\n",
        "  \n",
        "  i= i+1\n",
        "  if (FA*FP > 0):\n",
        "    a = p\n",
        "    FA = FP\n",
        "  else:\n",
        "    b = p"
      ],
      "execution_count": 30,
      "outputs": [
        {
          "output_type": "stream",
          "text": [
            "1 -3 -2 -2.5 -3.6683109273161314\n",
            "2 -2.5 -2 -2.25 -0.6139189025614914\n",
            "3 -2.25 -2 -2.125 0.6302468321336194\n",
            "4 -2.25 -2.125 -2.1875 0.03807553173138234\n",
            "5 -2.25 -2.1875 -2.21875 -0.2808361755159614\n",
            "6 -2.21875 -2.1875 -2.203125 -0.11955681450606104\n",
            "7 -2.203125 -2.1875 -2.1953125 -0.04027851417645412\n",
            "8 -2.1953125 -2.1875 -2.19140625 -0.0009851949521679781\n",
            "9 -2.19140625 -2.1875 -2.189453125 0.018574336957665638\n",
            "10 -2.19140625 -2.189453125 -2.1904296875 0.008801851379554693\n",
            "11 -2.19140625 -2.1904296875 -2.19091796875 0.0039101468330970945\n",
            "12 -2.19140625 -2.19091796875 -2.191162109375 0.0014629304107067753\n",
            "13 -2.19140625 -2.191162109375 -2.1912841796875 0.00023898132373800784\n",
            "14 -2.19140625 -2.1912841796875 -2.19134521484375 -0.00037307841848543966\n",
            "15 -2.19134521484375 -2.1912841796875 -2.191314697265625 -6.704144808034052e-05\n",
            "16 -2.191314697265625 -2.1912841796875 -2.1912994384765625 8.597171269708603e-05\n",
            "17 -2.191314697265625 -2.1912994384765625 -2.1913070678710938 9.465576019884736e-06\n",
            "Root is -2.1913070678710938\n"
          ],
          "name": "stdout"
        }
      ]
    },
    {
      "cell_type": "markdown",
      "metadata": {
        "id": "CTZJbtq29OsK",
        "colab_type": "text"
      },
      "source": [
        "**Nomor 2 dengan titik a =-1 dan b=0**"
      ]
    },
    {
      "cell_type": "code",
      "metadata": {
        "id": "HKsByKM3tcjb",
        "colab_type": "code",
        "colab": {}
      },
      "source": [
        "import math\n",
        "def f(x):\n",
        "  return (2*x*math.cos(2*x)) - (x + 1)**2"
      ],
      "execution_count": 31,
      "outputs": []
    },
    {
      "cell_type": "code",
      "metadata": {
        "id": "80BW85_ztf2r",
        "colab_type": "code",
        "colab": {
          "base_uri": "https://localhost:8080/",
          "height": 265
        },
        "outputId": "d72b9cdf-498f-4732-f985-dc8c1ce050a6"
      },
      "source": [
        "f2 = np.vectorize(f)\n",
        "x = np.linspace(-1,0,10)\n",
        "plt.plot(x,f2(x))\n",
        "plt.grid()\n",
        "plt.show()"
      ],
      "execution_count": 32,
      "outputs": [
        {
          "output_type": "display_data",
          "data": {
            "image/png": "[encoded data removed]",
            "text/plain": [
              "<Figure size 432x288 with 1 Axes>"
            ]
          },
          "metadata": {
            "tags": [],
            "needs_background": "light"
          }
        }
      ]
    },
    {
      "cell_type": "code",
      "metadata": {
        "id": "rOE6BMWZvAeY",
        "colab_type": "code",
        "colab": {}
      },
      "source": [
        "a = -1\n",
        "b = 0\n",
        "TOL = 10**(-5) #toleransi\n",
        "N0 = 100 #iterasi maks"
      ],
      "execution_count": 33,
      "outputs": []
    },
    {
      "cell_type": "code",
      "metadata": {
        "id": "KMRKrW86vD56",
        "colab_type": "code",
        "colab": {
          "base_uri": "https://localhost:8080/",
          "height": 34
        },
        "outputId": "ac8442cd-d448-4a99-e628-c53c4706e514"
      },
      "source": [
        "i = 1\n",
        "FA = f(a)\n",
        "print(FA)"
      ],
      "execution_count": 34,
      "outputs": [
        {
          "output_type": "stream",
          "text": [
            "0.8322936730942848\n"
          ],
          "name": "stdout"
        }
      ]
    },
    {
      "cell_type": "code",
      "metadata": {
        "id": "KdyTuN6BvOhx",
        "colab_type": "code",
        "colab": {
          "base_uri": "https://localhost:8080/",
          "height": 323
        },
        "outputId": "356d6c9b-731c-4874-d6d1-b08b3884f9c2"
      },
      "source": [
        "while (i <= N0): #STEP 2\n",
        "  p = a + (b-a) / 2 #STEP 3\n",
        "  FP = f(p)\n",
        "  print(\"{} {} {} {} {}\".format(i,a,b,p,FP))\n",
        "  \n",
        "  if (FP == 0) or (b-a)/2 < TOL:\n",
        "    print(\"Root is {}\".format(p))\n",
        "    break\n",
        "  \n",
        "  i= i+1\n",
        "  if (FA*FP > 0):\n",
        "    a = p\n",
        "    FA = FP\n",
        "  else:\n",
        "    b = p"
      ],
      "execution_count": 35,
      "outputs": [
        {
          "output_type": "stream",
          "text": [
            "1 -1 0 -0.5 -0.7903023058681398\n",
            "2 -1 -0.5 -0.75 -0.16860580250155435\n",
            "3 -1 -0.75 -0.875 0.29630559738661116\n",
            "4 -0.875 -0.75 -0.8125 0.05288159441877152\n",
            "5 -0.8125 -0.75 -0.78125 -0.06081442441227872\n",
            "6 -0.8125 -0.78125 -0.796875 -0.004680561239510585\n",
            "7 -0.8125 -0.796875 -0.8046875 0.023925179716782714\n",
            "8 -0.8046875 -0.796875 -0.80078125 0.009578065853130029\n",
            "9 -0.80078125 -0.796875 -0.798828125 0.0024376411175883322\n",
            "10 -0.798828125 -0.796875 -0.7978515625 -0.001124244100798491\n",
            "11 -0.798828125 -0.7978515625 -0.79833984375 0.0006560032765029825\n",
            "12 -0.79833984375 -0.7978515625 -0.798095703125 -0.00023429431751979812\n",
            "13 -0.79833984375 -0.798095703125 -0.7982177734375 0.00021081101531467833\n",
            "14 -0.7982177734375 -0.798095703125 -0.79815673828125 -1.1752518668105283e-05\n",
            "15 -0.7982177734375 -0.79815673828125 -0.798187255859375 9.952653162202674e-05\n",
            "16 -0.798187255859375 -0.79815673828125 -0.7981719970703125 4.388632727788527e-05\n",
            "17 -0.7981719970703125 -0.79815673828125 -0.7981643676757812 1.6066734502141744e-05\n",
            "Root is -0.7981643676757812\n"
          ],
          "name": "stdout"
        }
      ]
    }
  ]
}