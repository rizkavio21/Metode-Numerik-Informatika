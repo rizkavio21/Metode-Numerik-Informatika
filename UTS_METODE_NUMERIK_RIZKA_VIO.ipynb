{
  "nbformat": 4,
  "nbformat_minor": 0,
  "metadata": {
    "colab": {
      "name": "UTS_METODE_NUMERIK_RIZKA_VIO.ipynb",
      "provenance": [],
      "collapsed_sections": []
    },
    "kernelspec": {
      "name": "python3",
      "display_name": "Python 3"
    }
  },
  "cells": [
    {
      "cell_type": "markdown",
      "metadata": {
        "id": "Agem7q9CiVB-"
      },
      "source": [
        "# **Rizka Vio Octriany Inggit Sudiro**\n",
        "# **1301170121**\n",
        "# **IF41-GAB01**\n",
        "# **UJIAN TENGAH SEMESTER**\n",
        "\n",
        "\n",
        "\n"
      ]
    },
    {
      "cell_type": "markdown",
      "metadata": {
        "id": "FfSl5eHGisFG"
      },
      "source": [
        "#**<center> Penyelesaian Persoalan Non Liniear Menggunakan Metode Bisection</center>**\n"
      ]
    },
    {
      "cell_type": "markdown",
      "metadata": {
        "id": "_hDC2JFBkMfq"
      },
      "source": [
        "# Temukan akar f(x) = $e^{x} - 5x^{5}$ pada selang interval [0,1] dengan akurasi $10^{-5}$\n",
        "\n",
        "\n"
      ]
    },
    {
      "cell_type": "code",
      "metadata": {
        "id": "mHuhI1RJkLNr"
      },
      "source": [
        "import matplotlib.pyplot as plt\n",
        "import numpy as np\n",
        "def f(x):\n",
        "  return np.exp(x) - 5*x**5"
      ],
      "execution_count": 1,
      "outputs": []
    },
    {
      "cell_type": "code",
      "metadata": {
        "id": "R2oYZ5tflpG7"
      },
      "source": [
        "a = 0\n",
        "b = 1\n",
        "toleransi = 10**(-5) #toleransi\n",
        "iterasi = 100 #iterasi maks"
      ],
      "execution_count": 2,
      "outputs": []
    },
    {
      "cell_type": "code",
      "metadata": {
        "id": "-MQSAIBFl0TT"
      },
      "source": [
        "i = 1\n",
        "FA = f(a)"
      ],
      "execution_count": 3,
      "outputs": []
    },
    {
      "cell_type": "code",
      "metadata": {
        "id": "yjswNsENl2q7",
        "outputId": "0743e6f4-a4e4-455d-8261-99485aeddb83",
        "colab": {
          "base_uri": "https://localhost:8080/"
        }
      },
      "source": [
        "while (i <= iterasi): #STEP 2\n",
        "  p = a + (b-a) / 2 #STEP 3\n",
        "  FP = f(p)\n",
        "  print(\"{} {} {} {} {}\".format(i,a,b,p,FP))\n",
        "\n",
        "  if (FP == 0) or (b-a)/2 < toleransi:\n",
        "    print(\"Root is {}\".format(p))\n",
        "    break\n",
        "  \n",
        "  i= i+1\n",
        "  if (FA*FP > 0):\n",
        "    a = p\n",
        "    FA = FP\n",
        "  else:\n",
        "    b = p"
      ],
      "execution_count": 4,
      "outputs": [
        {
          "output_type": "stream",
          "text": [
            "1 0 1 0.5 1.4924712707001282\n",
            "2 0.5 1 0.75 0.9304765791126748\n",
            "3 0.75 1 0.875 -0.1656693837672769\n",
            "4 0.75 0.875 0.8125 0.48307179740607964\n",
            "5 0.8125 0.875 0.84375 0.1869158986518311\n",
            "6 0.84375 0.875 0.859375 0.018083680287199755\n",
            "7 0.859375 0.875 0.8671875 -0.07187524446487492\n",
            "8 0.859375 0.8671875 0.86328125 -0.02642301785900747\n",
            "9 0.859375 0.86328125 0.861328125 -0.0040523008471353705\n",
            "10 0.859375 0.861328125 0.8603515625 0.007044929224740315\n",
            "11 0.8603515625 0.861328125 0.86083984375 0.001503636856707402\n",
            "12 0.86083984375 0.861328125 0.861083984375 -0.0012724997276740702\n",
            "13 0.86083984375 0.861083984375 0.8609619140625 0.0001160264312600745\n",
            "14 0.8609619140625 0.861083984375 0.86102294921875 -0.0005781221565079875\n",
            "15 0.8609619140625 0.86102294921875 0.860992431640625 -0.0002310192428263136\n",
            "16 0.8609619140625 0.860992431640625 0.8609771728515625 -5.74892512243963e-05\n",
            "17 0.8609619140625 0.8609771728515625 0.8609695434570312 2.9270378608448056e-05\n",
            "Root is 0.8609695434570312\n"
          ],
          "name": "stdout"
        }
      ]
    },
    {
      "cell_type": "code",
      "metadata": {
        "id": "avffCr0elwDY",
        "outputId": "277f8d3d-ae67-4335-b06d-0601c10d1ff4",
        "colab": {
          "base_uri": "https://localhost:8080/",
          "height": 265
        }
      },
      "source": [
        "x = np.linspace(0,1,10)\n",
        "plt.plot(x,f(x))\n",
        "plt.grid()\n",
        "plt.show()"
      ],
      "execution_count": 5,
      "outputs": [
        {
          "output_type": "display_data",
          "data": {
            "image/png": "[encoded data removed]",
            "text/plain": [
              "<Figure size 432x288 with 1 Axes>"
            ]
          },
          "metadata": {
            "tags": [],
            "needs_background": "light"
          }
        }
      ]
    },
    {
      "cell_type": "code",
      "metadata": {
        "id": "b_8XzduBpCJq",
        "outputId": "eaefcc80-57de-4009-a771-9ce17f3bf918",
        "colab": {
          "base_uri": "https://localhost:8080/",
          "height": 51
        }
      },
      "source": [
        "from google.colab import files\n",
        "plt.savefig('foo.png')\n",
        "files.download(\"foo.png\")"
      ],
      "execution_count": 6,
      "outputs": [
        {
          "output_type": "display_data",
          "data": {
            "application/javascript": [
              "\n",
              "    async function download(id, filename, size) {\n",
              "      if (!google.colab.kernel.accessAllowed) {\n",
              "        return;\n",
              "      }\n",
              "      const div = document.createElement('div');\n",
              "      const label = document.createElement('label');\n",
              "      label.textContent = `Downloading \"${filename}\": `;\n",
              "      div.appendChild(label);\n",
              "      const progress = document.createElement('progress');\n",
              "      progress.max = size;\n",
              "      div.appendChild(progress);\n",
              "      document.body.appendChild(div);\n",
              "\n",
              "      const buffers = [];\n",
              "      let downloaded = 0;\n",
              "\n",
              "      const channel = await google.colab.kernel.comms.open(id);\n",
              "      // Send a message to notify the kernel that we're ready.\n",
              "      channel.send({})\n",
              "\n",
              "      for await (const message of channel.messages) {\n",
              "        // Send a message to notify the kernel that we're ready.\n",
              "        channel.send({})\n",
              "        if (message.buffers) {\n",
              "          for (const buffer of message.buffers) {\n",
              "            buffers.push(buffer);\n",
              "            downloaded += buffer.byteLength;\n",
              "            progress.value = downloaded;\n",
              "          }\n",
              "        }\n",
              "      }\n",
              "      const blob = new Blob(buffers, {type: 'application/binary'});\n",
              "      const a = document.createElement('a');\n",
              "      a.href = window.URL.createObjectURL(blob);\n",
              "      a.download = filename;\n",
              "      div.appendChild(a);\n",
              "      a.click();\n",
              "      div.remove();\n",
              "    }\n",
              "  "
            ],
            "text/plain": [
              "<IPython.core.display.Javascript object>"
            ]
          },
          "metadata": {
            "tags": []
          }
        },
        {
          "output_type": "display_data",
          "data": {
            "application/javascript": [
              "download(\"download_a9438a8b-d2a5-4f8d-9574-f12657073b20\", \"foo.png\", 1273)"
            ],
            "text/plain": [
              "<IPython.core.display.Javascript object>"
            ]
          },
          "metadata": {
            "tags": []
          }
        },
        {
          "output_type": "display_data",
          "data": {
            "text/plain": [
              "<Figure size 432x288 with 0 Axes>"
            ]
          },
          "metadata": {
            "tags": []
          }
        }
      ]
    }
  ]
}