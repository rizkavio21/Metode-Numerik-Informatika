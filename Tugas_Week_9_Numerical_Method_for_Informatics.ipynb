{
  "nbformat": 4,
  "nbformat_minor": 0,
  "metadata": {
    "colab": {
      "name": "Tugas Week 9 Numerical Method for Informatics.ipynb",
      "provenance": [],
      "collapsed_sections": []
    },
    "kernelspec": {
      "name": "python3",
      "display_name": "Python 3"
    }
  },
  "cells": [
    {
      "cell_type": "markdown",
      "metadata": {
        "id": "dAlAJ4B6Xdna"
      },
      "source": [
        "# **RIZKA VIO OCTRIANY INGGIT SUDIRO**\n",
        "**1301170121**\n",
        "\n",
        "**TUGAS MINGGU KE 9**\n",
        "\n"
      ]
    },
    {
      "cell_type": "markdown",
      "metadata": {
        "id": "HD9PblCCVkgc"
      },
      "source": [
        "# <center> Numerical Method for Informatics</center>\n",
        "## <center> Ordinary Differential Equation: Runge-Kutta Method</center>\n",
        "\n",
        "This course is devoted to student of Undergraduate Student of Informatics, Telkom University. \n",
        "\n",
        "Detail of Course\n",
        "\n",
        "\n",
        "*   Course Name: (CSH4403) Numerical Method for Informatics\n",
        "\n",
        "*   Creator: Dr. Putu Harry Gunawan\n",
        "\n",
        "\n",
        "\n",
        "---\n",
        "\n",
        "\n",
        "\n",
        "\n"
      ]
    },
    {
      "cell_type": "markdown",
      "metadata": {
        "id": "XiE-U8OyE9-a"
      },
      "source": [
        "**RUNGE-KUTTE ALGORITHM**\n",
        "\n",
        "<center><img src = \"https://i.imgur.com/RP9l241.png\" align = \"center\"> </center>\n",
        "<center><img src = \"https://i.imgur.com/fRZREEQ.png\" align = \"center\"> </center>\n",
        "\n",
        "\n",
        "\n",
        "\n"
      ]
    },
    {
      "cell_type": "markdown",
      "metadata": {
        "id": "w6hSrKItmb9I"
      },
      "source": [
        "# Exercise\n",
        "\n",
        "Modified this Euler method with Runge-Kutta method for the following problems.\n",
        "\n",
        "<center><img src = \"https://i.imgur.com/f2Vytli.png\" align = \"center\"> </center>\n",
        "<center><img src = \"https://i.imgur.com/BkmOko6.png\" align = \"center\"> </center>\n"
      ]
    },
    {
      "cell_type": "markdown",
      "metadata": {
        "id": "5CJdZ1v9X1z8"
      },
      "source": [
        "# **1A**"
      ]
    },
    {
      "cell_type": "code",
      "metadata": {
        "id": "K-nByW2XX5SJ",
        "colab": {
          "base_uri": "https://localhost:8080/",
          "height": 469
        },
        "outputId": "aa973f22-3879-42ab-ec12-5038e4133441"
      },
      "source": [
        "import numpy as np\n",
        "import matplotlib.pyplot as plt\n",
        "\n",
        "def y(t): #this function for exact solution\n",
        "  return 0.2*t*np.exp(3*t) - 0.04*np.exp(3*t) +0.04*np.exp(-2*t)\n",
        "\n",
        "def f(t,w):\n",
        "  return  t*np.exp(3*t) - 2*w\n",
        "\n",
        "a = 0\n",
        "b = 1\n",
        "N =10\n",
        "alpha = 0.5\n",
        "\n",
        "#Step 1\n",
        "h = (b-a)/N\n",
        "t = a \n",
        "w = alpha \n",
        "yt = y(t) \n",
        "ploty = np.array([yt])\n",
        "wplot =np.array([alpha])\n",
        "print(\"t    w   y    |y-w|\")\n",
        "print(\"{}  {}  {}  {}\".format(t,w,yt,abs(yt-w)))\n",
        " \n",
        "for i in range(1,N+1):\n",
        "  k1 = h*f(t,w)\n",
        "  k2 = h*f(t+h/2,w+k1/2)\n",
        "  k3 = h*f(t+h/2,w+k2/2)\n",
        "  k4 = h*f(t+h ,w+k3)\n",
        "  #Step 4\n",
        "  w = w + (k1+2*k2+2*k3+k4)/6 \n",
        "  t = a + i*h\n",
        "  yt=y(t)\n",
        "  ploty = np.append(ploty,yt)\n",
        "  wplot = np.append(wplot, w)\n",
        "  print(\"{}  {}  {}  {}\".format(t,w,yt,abs(yt-w)))\n",
        "\n",
        "image = np.linspace(0,2,11)\n",
        "plt.grid()\n",
        "plt.plot(image, wplot)\n",
        "plt.plot(image, ploty)\n",
        "plt.legend(['w-Euler','y-exact'], fontsize =15)\n",
        "plt.show()"
      ],
      "execution_count": 21,
      "outputs": [
        {
          "output_type": "stream",
          "text": [
            "t    w   y    |y-w|\n",
            "0  0.5  0.0  0.5\n",
            "0.1  0.4151212979781903  0.005752053971599214  0.4093692440065911\n",
            "0.2  0.3619809061523267  0.026812801841425586  0.3351681043109011\n",
            "0.30000000000000004  0.3455635769658723  0.07114452766690009  0.2744190492989722\n",
            "0.4  0.3754623749005013  0.15077783547415086  0.22468453942635042\n",
            "0.5  0.4675857781067671  0.2836165218671416  0.1839692562396255\n",
            "0.6000000000000001  0.6466596651341324  0.49601956562952404  0.15064009950460838\n",
            "0.7000000000000001  0.9498416196917828  0.8264808698144296  0.12336074987735324\n",
            "0.8  1.4318952086317012  1.3308570263967792  0.101038182234922\n",
            "0.9  2.1725533957325878  2.089774397011061  0.08277899872152661\n",
            "1.0  3.2869531696786467  3.2190993190394916  0.06785385063915506\n"
          ],
          "name": "stdout"
        },
        {
          "output_type": "display_data",
          "data": {
            "image/png": "[encoded data removed]",
            "text/plain": [
              "<Figure size 432x288 with 1 Axes>"
            ]
          },
          "metadata": {
            "tags": [],
            "needs_background": "light"
          }
        }
      ]
    },
    {
      "cell_type": "markdown",
      "metadata": {
        "id": "7-0yn9bOYlye"
      },
      "source": [
        "# **1B**"
      ]
    },
    {
      "cell_type": "code",
      "metadata": {
        "colab": {
          "base_uri": "https://localhost:8080/",
          "height": 469
        },
        "id": "kOrc700sYkmV",
        "outputId": "6f807afa-bccf-4bca-8c0b-208d4902a6b4"
      },
      "source": [
        "import numpy as np\n",
        "\n",
        "def y(t): #this function for exact solution\n",
        "  return  (t + 1)/(1-t)\n",
        "\n",
        "def f(t,w):\n",
        "  return  1 + (t-w)**2\n",
        "\n",
        "a = 2\n",
        "b = 3\n",
        "N =10\n",
        "alpha = 0.5\n",
        "\n",
        "#Step 1\n",
        "h = (b-a)/N\n",
        "t = a \n",
        "w = alpha \n",
        "yt = y(t)\n",
        "ploty = np.array([yt])\n",
        "wplot =np.array([alpha]) \n",
        "print(\"t    w   y    |y-w|\")\n",
        "print(\"{}  {}  {}  {}\".format(t,w,yt,abs(yt-w)))\n",
        " \n",
        "for i in range(1,N+1):\n",
        "  k1 = h*f(t,w)\n",
        "  k2 = h*f(t+h/2,w+k1/2)\n",
        "  k3 = h*f(t+h/2,w+k2/2)\n",
        "  k4 = h*f(t+h ,w+k3)\n",
        "  #Step 4\n",
        "  w = w + (k1+2*k2+2*k3+k4)/6 \n",
        "  t = a + i*h\n",
        "  yt=y(t)\n",
        "  ploty = np.append(ploty,yt)\n",
        "  wplot = np.append(wplot, w)\n",
        "  print(\"{}  {}  {}  {}\".format(t,w,yt,abs(yt-w)))\n",
        "\n",
        "\n",
        "image = np.linspace(0,2,11)\n",
        "plt.grid()\n",
        "plt.plot(image, wplot)\n",
        "plt.plot(image, ploty)\n",
        "plt.legend(['w-Euler','y-exact'], fontsize =15)\n",
        "plt.show()"
      ],
      "execution_count": 22,
      "outputs": [
        {
          "output_type": "stream",
          "text": [
            "t    w   y    |y-w|\n",
            "2  0.5  -3.0  3.5\n",
            "2.1  0.7956496251924601  -2.818181818181818  3.613831443374278\n",
            "2.2  1.0461506518497454  -2.6666666666666665  3.7128173185164117\n",
            "2.3  1.265514060611573  -2.5384615384615388  3.8039755990731114\n",
            "2.4  1.4624970527657009  -2.428571428571429  3.89106848133713\n",
            "2.5  1.6428544859966436  -2.3333333333333335  3.976187819329977\n",
            "2.6  1.8105239451826467  -2.25  4.060523945182647\n",
            "2.7  1.9682905732800617  -2.176470588235294  4.144761161515356\n",
            "2.8  2.1181799388474962  -2.111111111111111  4.229291049958608\n",
            "2.9  2.26170044880578  -2.0526315789473686  4.3143320277531485\n",
            "3.0  2.3999984947881017  -2.0  4.399998494788102\n"
          ],
          "name": "stdout"
        },
        {
          "output_type": "display_data",
          "data": {
            "image/png": "[encoded data removed]",
            "text/plain": [
              "<Figure size 432x288 with 1 Axes>"
            ]
          },
          "metadata": {
            "tags": [],
            "needs_background": "light"
          }
        }
      ]
    },
    {
      "cell_type": "markdown",
      "metadata": {
        "id": "BRVnE3p-Y3il"
      },
      "source": [
        "# **1C**"
      ]
    },
    {
      "cell_type": "code",
      "metadata": {
        "colab": {
          "base_uri": "https://localhost:8080/",
          "height": 469
        },
        "id": "becq67nxY80V",
        "outputId": "991c8e73-f58b-4fad-e224-ab6f4981b383"
      },
      "source": [
        "import numpy as np\n",
        "\n",
        "def y(t): #this function for exact solution\n",
        "  return  t*np.log(t) + 2*t\n",
        "\n",
        "def f(t,w):\n",
        "  return  1 + (w/t)\n",
        "\n",
        "a = 1\n",
        "b = 2\n",
        "N =10\n",
        "alpha = 0.25\n",
        "\n",
        "#Step 1\n",
        "h = (b-a)/N\n",
        "t = a \n",
        "w = alpha \n",
        "yt = y(t)\n",
        "ploty = np.array([yt])\n",
        "wplot =np.array([alpha]) \n",
        "print(\"t    w   y    |y-w|\")\n",
        "print(\"{}  {}  {}  {}\".format(t,w,yt,abs(yt-w)))\n",
        " \n",
        "for i in range(1,N+1):\n",
        "  k1 = h*f(t,w)\n",
        "  k2 = h*f(t+h/2,w+k1/2)\n",
        "  k3 = h*f(t+h/2,w+k2/2)\n",
        "  k4 = h*f(t+h ,w+k3)\n",
        "  #Step 4\n",
        "  w = w + (k1+2*k2+2*k3+k4)/6 \n",
        "  t = a + i*h\n",
        "  yt=y(t)\n",
        "  ploty = np.append(ploty,yt)\n",
        "  wplot = np.append(wplot, w)\n",
        "  print(\"{}  {}  {}  {}\".format(t,w,yt,abs(yt-w)))\n",
        "\n",
        "image = np.linspace(0,2,11)\n",
        "plt.grid()\n",
        "plt.plot(image, wplot)\n",
        "plt.plot(image, ploty)\n",
        "plt.legend(['w-Euler','y-exact'], fontsize =15)\n",
        "plt.show()"
      ],
      "execution_count": 23,
      "outputs": [
        {
          "output_type": "stream",
          "text": [
            "t    w   y    |y-w|\n",
            "1  0.25  2.0  1.75\n",
            "1.1  0.3798409262694977  2.3048411977847576  1.9250002715152599\n",
            "1.2  0.5187853831248008  2.6187858681527456  2.1000004850279446\n",
            "1.3  0.6660728830005855  2.9410735438077387  2.2750006608071534\n",
            "1.4  0.821060320083126  3.2710611312696978  2.450000811186572\n",
            "1.5  0.983196718198646  3.6081976621622465  2.6250009439636006\n",
            "1.6  1.152004742561386  3.9520058067931774  2.8000010642317914\n",
            "1.7000000000000002  1.3270668513915738  4.30206802680569  2.975001175414117\n",
            "1.8  1.5080147169551794  4.658015996823814  3.150001279868635\n",
            "1.9  1.6945210044718308  5.0195223837275496  3.3250013792557187\n",
            "2.0  1.8862928863524606  5.386294361119891  3.50000147476743\n"
          ],
          "name": "stdout"
        },
        {
          "output_type": "display_data",
          "data": {
            "image/png": "[encoded data removed]",
            "text/plain": [
              "<Figure size 432x288 with 1 Axes>"
            ]
          },
          "metadata": {
            "tags": [],
            "needs_background": "light"
          }
        }
      ]
    },
    {
      "cell_type": "markdown",
      "metadata": {
        "id": "ERRbaeTMZI2O"
      },
      "source": [
        "# **1D**"
      ]
    },
    {
      "cell_type": "code",
      "metadata": {
        "colab": {
          "base_uri": "https://localhost:8080/",
          "height": 469
        },
        "id": "UxNV3b-YZLdI",
        "outputId": "0c83aa78-3ea2-4a42-baf7-4c0c9a3e89fe"
      },
      "source": [
        "import numpy as np\n",
        "\n",
        "def y(t): #this function for exact solution\n",
        "  return 0.5*np.sin(2*t) - 0.3*np.cos(3*t) + 1.3\n",
        "\n",
        "def f(t,w):\n",
        "  return np.cos(2*t) + np.sin(3*t)\n",
        "\n",
        "a = 0\n",
        "b = 1\n",
        "N =10\n",
        "alpha = 0.25\n",
        "\n",
        "#Step 1\n",
        "h = (b-a)/N\n",
        "t = a \n",
        "w = alpha \n",
        "yt = y(t) \n",
        "ploty = np.array([yt])\n",
        "wplot =np.array([alpha])\n",
        "print(\"t    w   y    |y-w|\")\n",
        "print(\"{}  {}  {}  {}\".format(t,w,yt,abs(yt-w)))\n",
        " \n",
        "for i in range(1,N+1):\n",
        "  k1 = h*f(t,w)\n",
        "  k2 = h*f(t+h/2,w+k1/2)\n",
        "  k3 = h*f(t+h/2,w+k2/2)\n",
        "  k4 = h*f(t+h ,w+k3)\n",
        "  #Step 4\n",
        "  w = w + (k1+2*k2+2*k3+k4)/6 \n",
        "  t = a + i*h\n",
        "  yt=y(t)\n",
        "  ploty = np.append(ploty,yt)\n",
        "  wplot = np.append(wplot, w)\n",
        "  print(\"{}  {}  {}  {}\".format(t,w,yt,abs(yt-w)))\n",
        "\n",
        "image = np.linspace(0,2,11)\n",
        "plt.grid()\n",
        "plt.plot(image, wplot)\n",
        "plt.plot(image, ploty)\n",
        "plt.legend(['w-Euler','y-exact'], fontsize =15)\n",
        "plt.show()"
      ],
      "execution_count": 24,
      "outputs": [
        {
          "output_type": "stream",
          "text": [
            "t    w   y    |y-w|\n",
            "0  0.25  1.0  0.75\n",
            "0.1  0.364222599591818  1.112733718659849  0.7485111190680309\n",
            "0.2  0.5029309053392821  1.247108486681422  0.7441775813421398\n",
            "0.30000000000000004  0.658451759999114  1.3958382462163184  0.7373864862172044\n",
            "0.4  0.8212262595218736  1.5499707191067595  0.728744459584886\n",
            "0.5  0.9804908660581382  1.6995143319036374  0.7190234658454993\n",
            "0.6000000000000001  1.1250883206805558  1.8341801713915395  0.7090918507109838\n",
            "0.7000000000000001  1.2443419218375191  1.9441786963741874  0.6998367745366683\n",
            "0.8  1.3289199512045435  2.0210049161831263  0.6920849649785827\n",
            "0.9  1.3716165901407797  2.058145458044216  0.6865288679034363\n",
            "1.0  1.3679816691236069  2.0516464623929744  0.6836647932693676\n"
          ],
          "name": "stdout"
        },
        {
          "output_type": "display_data",
          "data": {
            "image/png": "[encoded data removed]",
            "text/plain": [
              "<Figure size 432x288 with 1 Axes>"
            ]
          },
          "metadata": {
            "tags": [],
            "needs_background": "light"
          }
        }
      ]
    },
    {
      "cell_type": "markdown",
      "metadata": {
        "id": "g1ZDg1UgZV4T"
      },
      "source": [
        "# **2A**"
      ]
    },
    {
      "cell_type": "code",
      "metadata": {
        "colab": {
          "base_uri": "https://localhost:8080/",
          "height": 469
        },
        "id": "mh4DvvK9Zcbl",
        "outputId": "5cb55a63-755d-4b73-ffe8-d1370c900279"
      },
      "source": [
        "import numpy as np\n",
        "\n",
        "def y(t): #this function for exact solution\n",
        "  return np.log(np.exp(t) + np.exp(1) -1)\n",
        "\n",
        "def f(t,w):\n",
        "  return np.exp(t-w)\n",
        "\n",
        "a = 0\n",
        "b = 1\n",
        "N =10\n",
        "alpha = 0.5\n",
        "\n",
        "#Step 1\n",
        "h = (b-a)/N\n",
        "t = a \n",
        "w = alpha \n",
        "yt = y(t)\n",
        "ploty = np.array([yt])\n",
        "wplot =np.array([alpha]) \n",
        "print(\"t    w   y    |y-w|\")\n",
        "print(\"{}  {}  {}  {}\".format(t,w,yt,abs(yt-w)))\n",
        " \n",
        "for i in range(1,N+1):\n",
        "  k1 = h*f(t,w)\n",
        "  k2 = h*f(t+h/2,w+k1/2)\n",
        "  k3 = h*f(t+h/2,w+k2/2)\n",
        "  k4 = h*f(t+h ,w+k3)\n",
        "  #Step 4\n",
        "  w = w + (k1+2*k2+2*k3+k4)/6 \n",
        "  t = a + i*h\n",
        "  yt=y(t)\n",
        "  ploty = np.append(ploty,yt)\n",
        "  wplot = np.append(wplot, w)\n",
        "  print(\"{}  {}  {}  {}\".format(t,w,yt,abs(yt-w)))\n",
        "\n",
        "image = np.linspace(0,2,11)\n",
        "plt.grid()\n",
        "plt.plot(image, wplot)\n",
        "plt.plot(image, ploty)\n",
        "plt.legend(['w-Euler','y-exact'], fontsize =15)\n",
        "plt.show()"
      ],
      "execution_count": 25,
      "outputs": [
        {
          "output_type": "stream",
          "text": [
            "t    w   y    |y-w|\n",
            "0  0.5  1.0  0.5\n",
            "0.1  0.5618374356303651  1.0379605142140824  0.4761230785837173\n",
            "0.2  0.6260047729747075  1.0783022921324559  0.4522975191577484\n",
            "0.30000000000000004  0.6924369951331469  1.1210717221007704  0.4286347269676235\n",
            "0.4  0.7610609578765787  1.166304122292324  0.40524316441574537\n",
            "0.5  0.8317966096201328  1.2140230606297089  0.3822264510095761\n",
            "0.6000000000000001  0.9045582537172675  1.2642398927336158  0.3596816390163483\n",
            "0.7000000000000001  0.9792558153008162  1.3169535369426872  0.33769772164187106\n",
            "0.8  1.0557960786390577  1.3721504958095445  0.31635441717048685\n",
            "0.9  1.134083865911161  1.4298051231706612  0.29572125725950027\n",
            "1.0  1.214023133965858  1.4898801256447498  0.27585699167889177\n"
          ],
          "name": "stdout"
        },
        {
          "output_type": "display_data",
          "data": {
            "image/png": "[encoded data removed]",
            "text/plain": [
              "<Figure size 432x288 with 1 Axes>"
            ]
          },
          "metadata": {
            "tags": [],
            "needs_background": "light"
          }
        }
      ]
    },
    {
      "cell_type": "markdown",
      "metadata": {
        "id": "vw3K8v0UZpnN"
      },
      "source": [
        "# **2B**"
      ]
    },
    {
      "cell_type": "code",
      "metadata": {
        "colab": {
          "base_uri": "https://localhost:8080/",
          "height": 469
        },
        "id": "Hy2sp4SyZsv5",
        "outputId": "872b7607-b99e-4331-ee74-a1df66bed89f"
      },
      "source": [
        "import numpy as np\n",
        "\n",
        "def y(t): #this function for exact solution\n",
        "  return np.sqrt(t**2 + 2*t + 6-1)\n",
        "\n",
        "def f(t,w):\n",
        "  return (1 + t) / (1+w) \n",
        "\n",
        "a = 1\n",
        "b = 2\n",
        "N =10\n",
        "alpha = 0.5\n",
        "\n",
        "#Step 1\n",
        "h = (b-a)/N\n",
        "t = a \n",
        "w = alpha \n",
        "yt = y(t)\n",
        "ploty = np.array([yt])\n",
        "wplot =np.array([alpha]) \n",
        "print(\"t    w   y    |y-w|\")\n",
        "print(\"{}  {}  {}  {}\".format(t,w,yt,abs(yt-w)))\n",
        " \n",
        "for i in range(1,N+1):\n",
        "  k1 = h*f(t,w)\n",
        "  k2 = h*f(t+h/2,w+k1/2)\n",
        "  k3 = h*f(t+h/2,w+k2/2)\n",
        "  k4 = h*f(t+h ,w+k3)\n",
        "  #Step 4\n",
        "  w = w + (k1+2*k2+2*k3+k4)/6 \n",
        "  t = a + i*h\n",
        "  yt=y(t)\n",
        "  ploty = np.append(ploty,yt)\n",
        "  wplot = np.append(wplot, w)\n",
        "  print(\"{}  {}  {}  {}\".format(t,w,yt,abs(yt-w)))\n",
        "\n",
        "image = np.linspace(0,2,11)\n",
        "plt.grid()\n",
        "plt.plot(image, wplot)\n",
        "plt.plot(image, ploty)\n",
        "plt.legend(['w-Euler','y-exact'], fontsize =15)\n",
        "plt.show()"
      ],
      "execution_count": 26,
      "outputs": [
        {
          "output_type": "stream",
          "text": [
            "t    w   y    |y-w|\n",
            "1  0.5  2.8284271247461903  2.3284271247461903\n",
            "1.1  0.6309506682514541  2.9  2.269049331748546\n",
            "1.2  0.7578396193861765  2.973213749463701  2.2153741300775245\n",
            "1.3  0.8814888131341605  3.047950130825634  2.1664613176914735\n",
            "1.4  1.0024984819557925  3.1240998703626617  2.1216013884068694\n",
            "1.5  1.1213203861450793  3.2015621187164243  2.080241732571345\n",
            "1.6  1.2383029704660569  3.2802438933713454  2.0419409229052885\n",
            "1.7000000000000002  1.3537205000426515  3.3600595232822887  2.0063390232396374\n",
            "1.8  1.4677925754862018  3.4409301068170506  1.9731375313308488\n",
            "1.9  1.580697618471659  3.5227829907617076  1.9420853722900486\n",
            "2.0  1.6925824406512893  3.605551275463989  1.9129688348126999\n"
          ],
          "name": "stdout"
        },
        {
          "output_type": "display_data",
          "data": {
            "image/png": "[encoded data removed]",
            "text/plain": [
              "<Figure size 432x288 with 1 Axes>"
            ]
          },
          "metadata": {
            "tags": [],
            "needs_background": "light"
          }
        }
      ]
    },
    {
      "cell_type": "markdown",
      "metadata": {
        "id": "TTjp92MdZ6oV"
      },
      "source": [
        "# **2C**"
      ]
    },
    {
      "cell_type": "code",
      "metadata": {
        "colab": {
          "base_uri": "https://localhost:8080/",
          "height": 469
        },
        "id": "S3ztKx6iZ201",
        "outputId": "976e6f2c-d8b9-4d80-8af9-14f79e5b0b01"
      },
      "source": [
        "import numpy as np\n",
        "\n",
        "def y(t): #this function for exact solution\n",
        "  return (t - 2 + np.sqrt(2*np.exp(1)*np.exp(-t/2)))**2 \n",
        "\n",
        "def f(t,w):\n",
        "  return -w + t*w**0.5\n",
        "\n",
        "a = 2\n",
        "b = 3\n",
        "N =10\n",
        "alpha = 0.25\n",
        "\n",
        "#Step 1\n",
        "h = (b-a)/N\n",
        "t = a \n",
        "w = alpha \n",
        "yt = y(t) \n",
        "wplot =np.array([alpha])\n",
        "ploty = np.array([yt])\n",
        "print(\"t    w   y    |y-w|\")\n",
        "print(\"{}  {}  {}  {}\".format(t,w,yt,abs(yt-w)))\n",
        " \n",
        "for i in range(1,N+1):\n",
        "  k1 = h*f(t,w)\n",
        "  k2 = h*f(t+h/2,w+k1/2)\n",
        "  k3 = h*f(t+h/2,w+k2/2)\n",
        "  k4 = h*f(t+h ,w+k3)\n",
        "  #Step 4\n",
        "  w = w + (k1+2*k2+2*k3+k4)/6 \n",
        "  t = a + i*h\n",
        "  yt=y(t)\n",
        "  wplot = np.append(wplot, w)\n",
        "  ploty = np.append(ploty,yt)\n",
        "  print(\"{}  {}  {}  {}\".format(t,w,yt,abs(yt-w)))\n",
        "\n",
        "import matplotlib.pyplot as plt\n",
        "\n",
        "image = np.linspace(0,2,11)\n",
        "plt.grid()\n",
        "plt.plot(image, wplot)\n",
        "plt.plot(image, ploty)\n",
        "plt.legend(['w-Euler','y-exact'], fontsize =15)\n",
        "plt.show()"
      ],
      "execution_count": 27,
      "outputs": [
        {
          "output_type": "stream",
          "text": [
            "t    w   y    |y-w|\n",
            "2  0.25  2.0000000000000004  1.7500000000000004\n",
            "2.1  0.3313317839770149  2.1883181500229036  1.8569863660458887\n",
            "2.2  0.4256492579469653  2.387771457294825  1.9621221993478597\n",
            "2.3  0.5334157109486447  2.5986324053115974  2.065216694362953\n",
            "2.4  0.655070809377508  2.82116818481925  2.166097375441742\n",
            "2.5  0.7910313306462758  3.0556406545301926  2.2646093238839167\n",
            "2.6  0.9416919280227655  3.3023063135670583  2.360614385544293\n",
            "2.7  1.107425916374544  3.561416284759004  2.45399036838446\n",
            "2.8  1.2885860705940706  3.8332163079669894  2.544630237372919\n",
            "2.9  1.4855054298914427  4.117946742663452  2.6324413127720097\n",
            "3.0  1.6984981022375467  4.415842579038001  2.7173444768004544\n"
          ],
          "name": "stdout"
        },
        {
          "output_type": "display_data",
          "data": {
            "image/png": "[encoded data removed]",
            "text/plain": [
              "<Figure size 432x288 with 1 Axes>"
            ]
          },
          "metadata": {
            "tags": [],
            "needs_background": "light"
          }
        }
      ]
    },
    {
      "cell_type": "markdown",
      "metadata": {
        "id": "TCOMivx_aMuF"
      },
      "source": [
        "# **2D**"
      ]
    },
    {
      "cell_type": "code",
      "metadata": {
        "colab": {
          "base_uri": "https://localhost:8080/",
          "height": 469
        },
        "id": "bPyT1oUtaO02",
        "outputId": "817a8fa7-0c82-457b-abce-0941e9d2e724"
      },
      "source": [
        "import numpy as np\n",
        "\n",
        "def y(t): #this function for exact solution\n",
        "  return (4 + np.cos(2) - np.cos(2*t))/ 2*t**2\n",
        "\n",
        "def f(t,w):\n",
        "  return t**(-2)*(np.sin(2*t)- 2*t*w)\n",
        "\n",
        "a = 1\n",
        "b = 2\n",
        "N =10\n",
        "alpha = 0.25\n",
        "\n",
        "#Step 1\n",
        "h = (b-a)/N\n",
        "t = a \n",
        "w = alpha \n",
        "wplot =np.array([alpha])\n",
        "yt = y(t) \n",
        "ploty = np.array([yt])\n",
        "print(\"t    w   y    |y-w|\")\n",
        "print(\"{}  {}  {}  {}\".format(t,w,yt,abs(yt-w)))\n",
        " \n",
        "for i in range(1,N+1):\n",
        "  k1 = h*f(t,w)\n",
        "  k2 = h*f(t+h/2,w+k1/2)\n",
        "  k3 = h*f(t+h/2,w+k2/2)\n",
        "  k4 = h*f(t+h ,w+k3)\n",
        "  #Step 4\n",
        "  w = w + (k1+2*k2+2*k3+k4)/6 \n",
        "  wplot = np.append(wplot, w)\n",
        "  t = a + i*h\n",
        "  yt=y(t)\n",
        "  ploty = np.append(ploty,yt)\n",
        "  print(\"{}  {}  {}  {}\".format(t,w,yt,abs(yt-w)))\n",
        "\n",
        "import matplotlib.pyplot as plt\n",
        "\n",
        "image = np.linspace(0,2,11)\n",
        "plt.grid()\n",
        "plt.plot(image, wplot)\n",
        "plt.plot(image, ploty)\n",
        "plt.legend(['w-Euler','y-exact'], fontsize =15)\n",
        "plt.show()"
      ],
      "execution_count": 28,
      "outputs": [
        {
          "output_type": "stream",
          "text": [
            "t    w   y    |y-w|\n",
            "1  0.25  2.0  1.75\n",
            "1.1  0.2778314588215723  2.5242743398284637  2.2464428810068915\n",
            "1.2  0.28515396265050097  3.1112977528757537  2.826143790225253\n",
            "1.3  0.27832474244599076  3.7524269197144258  3.474102177268435\n",
            "1.4  0.26175273008426797  4.4355539940390845  4.173801263954816\n",
            "1.5  0.2386312304513982  5.145576367559966  4.9069451371085675\n",
            "1.6  0.21135598049051108  5.865149362236942  5.653793381746431\n",
            "1.7000000000000002  0.1817726506919416  6.575691209466702  6.39391855877476\n",
            "1.8  0.15132809872494757  7.258590759254949  7.107262660530001\n",
            "1.9  0.12116555977557529  7.89655168003793  7.775386120262354\n",
            "2.0  0.09218640437558734  8.47499356863294  8.382807164257352\n"
          ],
          "name": "stdout"
        },
        {
          "output_type": "display_data",
          "data": {
            "image/png": "[encoded data removed]",
            "text/plain": [
              "<Figure size 432x288 with 1 Axes>"
            ]
          },
          "metadata": {
            "tags": [],
            "needs_background": "light"
          }
        }
      ]
    }
  ]
}